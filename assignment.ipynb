{
 "cells": [
  {
   "cell_type": "markdown",
   "id": "468b6601-474d-4b45-b083-0590a5f568b3",
   "metadata": {},
   "source": [
    "# Question 1"
   ]
  },
  {
   "cell_type": "markdown",
   "id": "2fa4fb7d-39e4-48d2-921a-e453f72910f5",
   "metadata": {},
   "source": [
    "Ans : In general, for loops are used when you know the number of iterations you need to perform in advance, and while loops are used when you need to repeat a block of code until a specific condition is met. Here are some examples to illustrate when to use each type of loop:"
   ]
  },
  {
   "cell_type": "code",
   "execution_count": 4,
   "id": "94c3b805-0b29-417f-9287-6c582098c1a1",
   "metadata": {},
   "outputs": [
    {
     "name": "stdout",
     "output_type": "stream",
     "text": [
      "apple\n",
      "banana\n",
      "cherry\n"
     ]
    }
   ],
   "source": [
    "fruits = [\"apple\", \"banana\", \"cherry\"]\n",
    "for fruit in fruits:\n",
    "    print(fruit)"
   ]
  },
  {
   "cell_type": "markdown",
   "id": "5f5e2ded-e3c1-4b58-add5-4d21897a9b86",
   "metadata": {},
   "source": [
    "In this example, we use a for loop to iterate over a list of fruits and print each one. Since we know the number of fruits in the list in advance, a for loop is the natural choice."
   ]
  },
  {
   "cell_type": "code",
   "execution_count": 2,
   "id": "0102059b-b5a2-4bf3-9ebe-48592bb982b8",
   "metadata": {},
   "outputs": [
    {
     "name": "stdin",
     "output_type": "stream",
     "text": [
      "Guess the secret number (between 1 and 10):  1\n"
     ]
    },
    {
     "name": "stdout",
     "output_type": "stream",
     "text": [
      "Too low!\n"
     ]
    },
    {
     "name": "stdin",
     "output_type": "stream",
     "text": [
      "Guess the secret number (between 1 and 10):  2\n"
     ]
    },
    {
     "name": "stdout",
     "output_type": "stream",
     "text": [
      "Too low!\n"
     ]
    },
    {
     "name": "stdin",
     "output_type": "stream",
     "text": [
      "Guess the secret number (between 1 and 10):  3\n"
     ]
    },
    {
     "name": "stdout",
     "output_type": "stream",
     "text": [
      "Too low!\n"
     ]
    },
    {
     "name": "stdin",
     "output_type": "stream",
     "text": [
      "Guess the secret number (between 1 and 10):  8\n"
     ]
    },
    {
     "name": "stdout",
     "output_type": "stream",
     "text": [
      "Too high!\n"
     ]
    },
    {
     "name": "stdin",
     "output_type": "stream",
     "text": [
      "Guess the secret number (between 1 and 10):  5\n"
     ]
    },
    {
     "name": "stdout",
     "output_type": "stream",
     "text": [
      "Too high!\n"
     ]
    },
    {
     "name": "stdin",
     "output_type": "stream",
     "text": [
      "Guess the secret number (between 1 and 10):  6\n"
     ]
    },
    {
     "name": "stdout",
     "output_type": "stream",
     "text": [
      "Too high!\n"
     ]
    },
    {
     "name": "stdin",
     "output_type": "stream",
     "text": [
      "Guess the secret number (between 1 and 10):  7\n"
     ]
    },
    {
     "name": "stdout",
     "output_type": "stream",
     "text": [
      "Too high!\n"
     ]
    },
    {
     "name": "stdin",
     "output_type": "stream",
     "text": [
      "Guess the secret number (between 1 and 10):  4\n"
     ]
    },
    {
     "name": "stdout",
     "output_type": "stream",
     "text": [
      "Congratulations, you guessed the secret number!\n"
     ]
    }
   ],
   "source": [
    "import random\n",
    "\n",
    "secret_number = random.randint(1, 10)\n",
    "guess = 0\n",
    "\n",
    "while guess != secret_number:\n",
    "    guess = int(input(\"Guess the secret number (between 1 and 10): \"))\n",
    "    if guess < secret_number:\n",
    "        print(\"Too low!\")\n",
    "    elif guess > secret_number:\n",
    "        print(\"Too high!\")\n",
    "        \n",
    "print(\"Congratulations, you guessed the secret number!\")"
   ]
  },
  {
   "cell_type": "markdown",
   "id": "c1f86de2-95dd-4534-8c60-90c9f7657eab",
   "metadata": {},
   "source": [
    "# Question 2"
   ]
  },
  {
   "cell_type": "code",
   "execution_count": 22,
   "id": "7f55e0d0-57ba-4165-96ad-3326bb31dd9f",
   "metadata": {},
   "outputs": [
    {
     "name": "stdout",
     "output_type": "stream",
     "text": [
      "Product of first 10 natural numbers using for loop is  : 3628800\n",
      "Sum of first 10 natural numbers using for loop is  : 55\n"
     ]
    }
   ],
   "source": [
    "n = 10\n",
    "p =0\n",
    "s = 1\n",
    "for i in range(1,n+1) :\n",
    "    s = s * i\n",
    "    p = p + i \n",
    "print(\"Product of first 10 natural numbers using for loop is  :\",s)    \n",
    "print(\"Sum of first 10 natural numbers using for loop is  :\",p)      \n",
    "        "
   ]
  },
  {
   "cell_type": "code",
   "execution_count": 20,
   "id": "9d3845b3-95a5-4c41-94f5-9c19f37c922b",
   "metadata": {},
   "outputs": [
    {
     "name": "stdout",
     "output_type": "stream",
     "text": [
      "Sum of first 10 natural numbers using while loop is : 55\n",
      "product of first 10 natural numbers using while loop is : 3628800\n"
     ]
    }
   ],
   "source": [
    "n=10\n",
    "s1=0 \n",
    "p1=1\n",
    "counter = 1\n",
    "while counter <= n :\n",
    "    s1 = s1 + counter\n",
    "    p1 = p1 * counter\n",
    "    counter = counter +1\n",
    "print(\"Sum of first 10 natural numbers using while loop is :\",s1)    \n",
    "print(\"product of first 10 natural numbers using while loop is :\",p1)"
   ]
  },
  {
   "cell_type": "markdown",
   "id": "8fd0a94e-0dd1-42f9-96ac-e84f220638ac",
   "metadata": {
    "tags": []
   },
   "source": [
    "# Question 3"
   ]
  },
  {
   "cell_type": "code",
   "execution_count": 44,
   "id": "f4e1f199-2e92-4a0f-b71f-96dec56eb4d5",
   "metadata": {},
   "outputs": [
    {
     "name": "stdin",
     "output_type": "stream",
     "text": [
      "Enter the your electricity units :  5\n"
     ]
    },
    {
     "name": "stdout",
     "output_type": "stream",
     "text": [
      "Your mounth electricity bill is : 22.5\n"
     ]
    }
   ],
   "source": [
    "bill = 1\n",
    "u = int(input(\"Enter the your electricity units : \" ))\n",
    "if u <= 100 :\n",
    "    bill = u * 4.5\n",
    "    print(\"Your mounth electricity bill is :\",bill)\n",
    "elif u >100 and u <=200:\n",
    "    bill = u * 6 \n",
    "    print(\"your mounth eletricity bill is :\",bill)\n",
    "elif u>200 and u<=300:\n",
    "    bill = u * 10\n",
    "    print(\"your mounth electricity bill is :\",bill)\n",
    "elif  u==310 :\n",
    "    bill = 2250\n",
    "    print(\"your mounth electricity bill is :\",bill)\n",
    "else :\n",
    "    bill = u * 20\n",
    "    print(\"your mounth electricity bill is :\",bill)"
   ]
  },
  {
   "cell_type": "markdown",
   "id": "4b6bedb1-21ee-4448-b0cd-0754a016eff4",
   "metadata": {
    "tags": []
   },
   "source": [
    "# Question 4"
   ]
  },
  {
   "cell_type": "code",
   "execution_count": 1,
   "id": "dd648c9c-e791-4489-9f6b-e1305a8f7a40",
   "metadata": {},
   "outputs": [
    {
     "name": "stdout",
     "output_type": "stream",
     "text": [
      "[2, 4, 5, 6, 8, 10, 12, 14, 15, 16, 18, 20, 22, 24, 25, 26, 28, 30, 32, 34, 35, 36, 38, 40, 42, 44, 45, 46, 48, 50, 52, 54, 55, 56, 58, 60, 62, 64, 65, 66, 68, 70, 72, 74, 75, 76, 78, 80, 82, 84, 85, 86, 88, 90, 92, 94, 95, 96, 98, 100]\n",
      "[2, 4, 5, 6, 8, 10, 12, 14, 15, 16, 18, 20, 22, 24, 25, 26, 28, 30, 32, 34, 35, 36, 38, 40, 42, 44, 45, 46, 48, 50, 52, 54, 55, 56, 58, 60, 62, 64, 65, 66, 68, 70, 72, 74, 75, 76, 78, 80, 82, 84, 85, 86, 88, 90, 92, 94, 95, 96, 98, 100]\n"
     ]
    }
   ],
   "source": [
    "cubes = []\n",
    "\n",
    "for i in range(1, 101):\n",
    "    cube = i**3\n",
    "    if cube % 4 == 0 or cube % 5 == 0:\n",
    "        cubes.append(i) #why we append i , we should append cube \n",
    "print(cubes)\n",
    "\n",
    "cubes = []\n",
    "i = 1\n",
    "\n",
    "while i <= 100:\n",
    "    cube = i**3\n",
    "    if cube % 4 == 0 or cube % 5 == 0:\n",
    "        cubes.append(i)\n",
    "    i += 1\n",
    "print(cubes) "
   ]
  },
  {
   "cell_type": "markdown",
   "id": "6e14eed7-18f2-4d35-9d68-71c6a9fff11d",
   "metadata": {},
   "source": [
    "# Question 5"
   ]
  },
  {
   "cell_type": "code",
   "execution_count": 1,
   "id": "df5bfdf3-5b7a-4e18-ae29-95bd099046e0",
   "metadata": {},
   "outputs": [
    {
     "name": "stdout",
     "output_type": "stream",
     "text": [
      "12\n"
     ]
    }
   ],
   "source": [
    "string = \"I want to become a data scientist\"\n",
    "vowels = ['a', 'e', 'i', 'o', 'u']\n",
    "count = 0\n",
    "for char in string:\n",
    "    if char.lower() in vowels:\n",
    "        count += 1\n",
    "print(count)"
   ]
  },
  {
   "cell_type": "code",
   "execution_count": null,
   "id": "c246da70-469d-4acc-a722-c681d7323586",
   "metadata": {},
   "outputs": [],
   "source": []
  },
  {
   "cell_type": "code",
   "execution_count": null,
   "id": "0ee1933a-469b-4aa5-9910-f1a5b5a67907",
   "metadata": {},
   "outputs": [],
   "source": [
    "\n",
    "          \n",
    "    "
   ]
  },
  {
   "cell_type": "code",
   "execution_count": null,
   "id": "186f402b-8fbe-40a6-be2b-4bb0c4a2051b",
   "metadata": {},
   "outputs": [],
   "source": []
  }
 ],
 "metadata": {
  "kernelspec": {
   "display_name": "Python 3 (ipykernel)",
   "language": "python",
   "name": "python3"
  },
  "language_info": {
   "codemirror_mode": {
    "name": "ipython",
    "version": 3
   },
   "file_extension": ".py",
   "mimetype": "text/x-python",
   "name": "python",
   "nbconvert_exporter": "python",
   "pygments_lexer": "ipython3",
   "version": "3.10.8"
  }
 },
 "nbformat": 4,
 "nbformat_minor": 5
}
